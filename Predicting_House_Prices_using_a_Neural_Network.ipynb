{
 "cells": [
  {
   "cell_type": "markdown",
   "metadata": {
    "id": "cLfc9zMT6aGu"
   },
   "source": [
    "## Predicting House Prices using a Neural Network"
   ]
  },
  {
   "cell_type": "markdown",
   "metadata": {
    "id": "mZgIxoqL6cI3"
   },
   "source": [
    "Import libraries"
   ]
  },
  {
   "cell_type": "code",
   "execution_count": 1,
   "metadata": {
    "id": "_vyMxuZQZVlO"
   },
   "outputs": [],
   "source": [
    "import numpy as np\n",
    "import pandas as pd\n",
    "import matplotlib.pyplot as plt\n",
    "import seaborn as sns\n",
    "import warnings"
   ]
  },
  {
   "cell_type": "code",
   "execution_count": 2,
   "metadata": {
    "id": "7Wnm6h1rNk1X"
   },
   "outputs": [
    {
     "name": "stderr",
     "output_type": "stream",
     "text": [
      "2023-05-30 09:29:39.639480: I tensorflow/core/platform/cpu_feature_guard.cc:182] This TensorFlow binary is optimized to use available CPU instructions in performance-critical operations.\n",
      "To enable the following instructions: AVX2 AVX512F AVX512_VNNI FMA, in other operations, rebuild TensorFlow with the appropriate compiler flags.\n"
     ]
    }
   ],
   "source": [
    "import tensorflow as tf\n",
    "from tensorflow.keras.datasets import boston_housing\n",
    "from sklearn import preprocessing\n",
    "from tensorflow.keras.layers import Dense\n",
    "from tensorflow.keras.callbacks import EarlyStopping"
   ]
  },
  {
   "cell_type": "code",
   "execution_count": 3,
   "metadata": {
    "id": "pzj_9H9S6u1u"
   },
   "outputs": [],
   "source": [
    "(train_X,train_y),(test_X,test_y) = boston_housing.load_data()"
   ]
  },
  {
   "cell_type": "markdown",
   "metadata": {},
   "source": [
    "Observation :\n",
    "    Divide the dataset into training and testing dataset"
   ]
  },
  {
   "cell_type": "code",
   "execution_count": 4,
   "metadata": {
    "id": "WPoa_MGKp-QH"
   },
   "outputs": [],
   "source": [
    "df = pd.DataFrame(train_X)"
   ]
  },
  {
   "cell_type": "markdown",
   "metadata": {},
   "source": [
    "Observation :\n",
    "    create a dataframe of X_train columns"
   ]
  },
  {
   "cell_type": "code",
   "execution_count": 5,
   "metadata": {
    "colab": {
     "base_uri": "https://localhost:8080/",
     "height": 206
    },
    "id": "6Xwd7b36q61-",
    "outputId": "35519846-5b7f-4980-8bff-90544214afc9"
   },
   "outputs": [
    {
     "data": {
      "text/html": [
       "<div>\n",
       "<style scoped>\n",
       "    .dataframe tbody tr th:only-of-type {\n",
       "        vertical-align: middle;\n",
       "    }\n",
       "\n",
       "    .dataframe tbody tr th {\n",
       "        vertical-align: top;\n",
       "    }\n",
       "\n",
       "    .dataframe thead th {\n",
       "        text-align: right;\n",
       "    }\n",
       "</style>\n",
       "<table border=\"1\" class=\"dataframe\">\n",
       "  <thead>\n",
       "    <tr style=\"text-align: right;\">\n",
       "      <th></th>\n",
       "      <th>0</th>\n",
       "      <th>1</th>\n",
       "      <th>2</th>\n",
       "      <th>3</th>\n",
       "      <th>4</th>\n",
       "      <th>5</th>\n",
       "      <th>6</th>\n",
       "      <th>7</th>\n",
       "      <th>8</th>\n",
       "      <th>9</th>\n",
       "      <th>10</th>\n",
       "      <th>11</th>\n",
       "      <th>12</th>\n",
       "    </tr>\n",
       "  </thead>\n",
       "  <tbody>\n",
       "    <tr>\n",
       "      <th>0</th>\n",
       "      <td>1.23247</td>\n",
       "      <td>0.0</td>\n",
       "      <td>8.14</td>\n",
       "      <td>0.0</td>\n",
       "      <td>0.538</td>\n",
       "      <td>6.142</td>\n",
       "      <td>91.7</td>\n",
       "      <td>3.9769</td>\n",
       "      <td>4.0</td>\n",
       "      <td>307.0</td>\n",
       "      <td>21.0</td>\n",
       "      <td>396.90</td>\n",
       "      <td>18.72</td>\n",
       "    </tr>\n",
       "    <tr>\n",
       "      <th>1</th>\n",
       "      <td>0.02177</td>\n",
       "      <td>82.5</td>\n",
       "      <td>2.03</td>\n",
       "      <td>0.0</td>\n",
       "      <td>0.415</td>\n",
       "      <td>7.610</td>\n",
       "      <td>15.7</td>\n",
       "      <td>6.2700</td>\n",
       "      <td>2.0</td>\n",
       "      <td>348.0</td>\n",
       "      <td>14.7</td>\n",
       "      <td>395.38</td>\n",
       "      <td>3.11</td>\n",
       "    </tr>\n",
       "    <tr>\n",
       "      <th>2</th>\n",
       "      <td>4.89822</td>\n",
       "      <td>0.0</td>\n",
       "      <td>18.10</td>\n",
       "      <td>0.0</td>\n",
       "      <td>0.631</td>\n",
       "      <td>4.970</td>\n",
       "      <td>100.0</td>\n",
       "      <td>1.3325</td>\n",
       "      <td>24.0</td>\n",
       "      <td>666.0</td>\n",
       "      <td>20.2</td>\n",
       "      <td>375.52</td>\n",
       "      <td>3.26</td>\n",
       "    </tr>\n",
       "    <tr>\n",
       "      <th>3</th>\n",
       "      <td>0.03961</td>\n",
       "      <td>0.0</td>\n",
       "      <td>5.19</td>\n",
       "      <td>0.0</td>\n",
       "      <td>0.515</td>\n",
       "      <td>6.037</td>\n",
       "      <td>34.5</td>\n",
       "      <td>5.9853</td>\n",
       "      <td>5.0</td>\n",
       "      <td>224.0</td>\n",
       "      <td>20.2</td>\n",
       "      <td>396.90</td>\n",
       "      <td>8.01</td>\n",
       "    </tr>\n",
       "    <tr>\n",
       "      <th>4</th>\n",
       "      <td>3.69311</td>\n",
       "      <td>0.0</td>\n",
       "      <td>18.10</td>\n",
       "      <td>0.0</td>\n",
       "      <td>0.713</td>\n",
       "      <td>6.376</td>\n",
       "      <td>88.4</td>\n",
       "      <td>2.5671</td>\n",
       "      <td>24.0</td>\n",
       "      <td>666.0</td>\n",
       "      <td>20.2</td>\n",
       "      <td>391.43</td>\n",
       "      <td>14.65</td>\n",
       "    </tr>\n",
       "  </tbody>\n",
       "</table>\n",
       "</div>"
      ],
      "text/plain": [
       "        0     1      2    3      4      5      6       7     8      9     10  \\\n",
       "0  1.23247   0.0   8.14  0.0  0.538  6.142   91.7  3.9769   4.0  307.0  21.0   \n",
       "1  0.02177  82.5   2.03  0.0  0.415  7.610   15.7  6.2700   2.0  348.0  14.7   \n",
       "2  4.89822   0.0  18.10  0.0  0.631  4.970  100.0  1.3325  24.0  666.0  20.2   \n",
       "3  0.03961   0.0   5.19  0.0  0.515  6.037   34.5  5.9853   5.0  224.0  20.2   \n",
       "4  3.69311   0.0  18.10  0.0  0.713  6.376   88.4  2.5671  24.0  666.0  20.2   \n",
       "\n",
       "       11     12  \n",
       "0  396.90  18.72  \n",
       "1  395.38   3.11  \n",
       "2  375.52   3.26  \n",
       "3  396.90   8.01  \n",
       "4  391.43  14.65  "
      ]
     },
     "execution_count": 5,
     "metadata": {},
     "output_type": "execute_result"
    }
   ],
   "source": [
    "df.head()"
   ]
  },
  {
   "cell_type": "markdown",
   "metadata": {},
   "source": [
    "Print top 5 rows "
   ]
  },
  {
   "cell_type": "code",
   "execution_count": 7,
   "metadata": {
    "id": "Ag9o2Q8rwfmu"
   },
   "outputs": [],
   "source": [
    "df.rename(columns={0: 'crim', 1: 'zn', 2: 'indus', 3: 'chas', 4: 'nox', 5: 'rm', 6: 'age', 7: 'dis', 8: 'rad', 9: 'tax', 10: 'ptratio', 11: 'b', 12: 'lstat'}, inplace=True)"
   ]
  },
  {
   "cell_type": "markdown",
   "metadata": {},
   "source": [
    "Observation : Rename the datset with actual columns name"
   ]
  },
  {
   "cell_type": "code",
   "execution_count": 9,
   "metadata": {
    "colab": {
     "base_uri": "https://localhost:8080/",
     "height": 206
    },
    "id": "T-Zt-Zbuyad_",
    "outputId": "7f460e8a-52f2-4d33-8c23-0719d62776e6"
   },
   "outputs": [
    {
     "data": {
      "text/html": [
       "<div>\n",
       "<style scoped>\n",
       "    .dataframe tbody tr th:only-of-type {\n",
       "        vertical-align: middle;\n",
       "    }\n",
       "\n",
       "    .dataframe tbody tr th {\n",
       "        vertical-align: top;\n",
       "    }\n",
       "\n",
       "    .dataframe thead th {\n",
       "        text-align: right;\n",
       "    }\n",
       "</style>\n",
       "<table border=\"1\" class=\"dataframe\">\n",
       "  <thead>\n",
       "    <tr style=\"text-align: right;\">\n",
       "      <th></th>\n",
       "      <th>crim</th>\n",
       "      <th>zn</th>\n",
       "      <th>indus</th>\n",
       "      <th>chas</th>\n",
       "      <th>nox</th>\n",
       "      <th>rm</th>\n",
       "      <th>age</th>\n",
       "      <th>dis</th>\n",
       "      <th>rad</th>\n",
       "      <th>tax</th>\n",
       "      <th>ptratio</th>\n",
       "      <th>b</th>\n",
       "      <th>lstat</th>\n",
       "    </tr>\n",
       "  </thead>\n",
       "  <tbody>\n",
       "    <tr>\n",
       "      <th>0</th>\n",
       "      <td>1.23247</td>\n",
       "      <td>0.0</td>\n",
       "      <td>8.14</td>\n",
       "      <td>0.0</td>\n",
       "      <td>0.538</td>\n",
       "      <td>6.142</td>\n",
       "      <td>91.7</td>\n",
       "      <td>3.9769</td>\n",
       "      <td>4.0</td>\n",
       "      <td>307.0</td>\n",
       "      <td>21.0</td>\n",
       "      <td>396.90</td>\n",
       "      <td>18.72</td>\n",
       "    </tr>\n",
       "    <tr>\n",
       "      <th>1</th>\n",
       "      <td>0.02177</td>\n",
       "      <td>82.5</td>\n",
       "      <td>2.03</td>\n",
       "      <td>0.0</td>\n",
       "      <td>0.415</td>\n",
       "      <td>7.610</td>\n",
       "      <td>15.7</td>\n",
       "      <td>6.2700</td>\n",
       "      <td>2.0</td>\n",
       "      <td>348.0</td>\n",
       "      <td>14.7</td>\n",
       "      <td>395.38</td>\n",
       "      <td>3.11</td>\n",
       "    </tr>\n",
       "    <tr>\n",
       "      <th>2</th>\n",
       "      <td>4.89822</td>\n",
       "      <td>0.0</td>\n",
       "      <td>18.10</td>\n",
       "      <td>0.0</td>\n",
       "      <td>0.631</td>\n",
       "      <td>4.970</td>\n",
       "      <td>100.0</td>\n",
       "      <td>1.3325</td>\n",
       "      <td>24.0</td>\n",
       "      <td>666.0</td>\n",
       "      <td>20.2</td>\n",
       "      <td>375.52</td>\n",
       "      <td>3.26</td>\n",
       "    </tr>\n",
       "    <tr>\n",
       "      <th>3</th>\n",
       "      <td>0.03961</td>\n",
       "      <td>0.0</td>\n",
       "      <td>5.19</td>\n",
       "      <td>0.0</td>\n",
       "      <td>0.515</td>\n",
       "      <td>6.037</td>\n",
       "      <td>34.5</td>\n",
       "      <td>5.9853</td>\n",
       "      <td>5.0</td>\n",
       "      <td>224.0</td>\n",
       "      <td>20.2</td>\n",
       "      <td>396.90</td>\n",
       "      <td>8.01</td>\n",
       "    </tr>\n",
       "    <tr>\n",
       "      <th>4</th>\n",
       "      <td>3.69311</td>\n",
       "      <td>0.0</td>\n",
       "      <td>18.10</td>\n",
       "      <td>0.0</td>\n",
       "      <td>0.713</td>\n",
       "      <td>6.376</td>\n",
       "      <td>88.4</td>\n",
       "      <td>2.5671</td>\n",
       "      <td>24.0</td>\n",
       "      <td>666.0</td>\n",
       "      <td>20.2</td>\n",
       "      <td>391.43</td>\n",
       "      <td>14.65</td>\n",
       "    </tr>\n",
       "  </tbody>\n",
       "</table>\n",
       "</div>"
      ],
      "text/plain": [
       "      crim    zn  indus  chas    nox     rm    age     dis   rad    tax  \\\n",
       "0  1.23247   0.0   8.14   0.0  0.538  6.142   91.7  3.9769   4.0  307.0   \n",
       "1  0.02177  82.5   2.03   0.0  0.415  7.610   15.7  6.2700   2.0  348.0   \n",
       "2  4.89822   0.0  18.10   0.0  0.631  4.970  100.0  1.3325  24.0  666.0   \n",
       "3  0.03961   0.0   5.19   0.0  0.515  6.037   34.5  5.9853   5.0  224.0   \n",
       "4  3.69311   0.0  18.10   0.0  0.713  6.376   88.4  2.5671  24.0  666.0   \n",
       "\n",
       "   ptratio       b  lstat  \n",
       "0     21.0  396.90  18.72  \n",
       "1     14.7  395.38   3.11  \n",
       "2     20.2  375.52   3.26  \n",
       "3     20.2  396.90   8.01  \n",
       "4     20.2  391.43  14.65  "
      ]
     },
     "execution_count": 9,
     "metadata": {},
     "output_type": "execute_result"
    }
   ],
   "source": [
    "df.head()"
   ]
  },
  {
   "cell_type": "markdown",
   "metadata": {},
   "source": [
    "Observation :\n",
    "\n",
    "CRIM per capita crime rate by town\n",
    "\n",
    "ZN proportion of residential land zoned for lots over 25,000 sq.ft.\n",
    "\n",
    "INDUS proportion of non-retail business acres per town\n",
    "\n",
    "CHAS Charles River dummy variable (= 1 if tract bounds river; 0 otherwise)\n",
    "\n",
    "NOX nitric oxides concentration (parts per 10 million)\n",
    "\n",
    "RM average number of rooms per dwelling\n",
    "\n",
    "AGE proportion of owner-occupied units built prior to 1940\n",
    "\n",
    "DIS weighted distances to five Boston employment centres\n",
    "\n",
    "RAD index of accessibility to radial highways\n",
    "\n",
    "TAX full-value property-tax rate per 10,000usd\n",
    "\n",
    "PTRATIO pupil-teacher ratio by town\n",
    "\n",
    "B 1000(Bk - 0.63)^2 where Bk is the proportion of blacks by town\n",
    "\n",
    "LSTAT % lower status of the population\n",
    "\n",
    "Each record in the database describes a Boston suburb or town.\n"
   ]
  },
  {
   "cell_type": "code",
   "execution_count": 10,
   "metadata": {
    "colab": {
     "base_uri": "https://localhost:8080/",
     "height": 300
    },
    "id": "01Z94tii5RNu",
    "outputId": "2f00ecfe-e7c5-4fe5-a15b-de7cda19250a"
   },
   "outputs": [
    {
     "data": {
      "text/html": [
       "<div>\n",
       "<style scoped>\n",
       "    .dataframe tbody tr th:only-of-type {\n",
       "        vertical-align: middle;\n",
       "    }\n",
       "\n",
       "    .dataframe tbody tr th {\n",
       "        vertical-align: top;\n",
       "    }\n",
       "\n",
       "    .dataframe thead th {\n",
       "        text-align: right;\n",
       "    }\n",
       "</style>\n",
       "<table border=\"1\" class=\"dataframe\">\n",
       "  <thead>\n",
       "    <tr style=\"text-align: right;\">\n",
       "      <th></th>\n",
       "      <th>crim</th>\n",
       "      <th>zn</th>\n",
       "      <th>indus</th>\n",
       "      <th>chas</th>\n",
       "      <th>nox</th>\n",
       "      <th>rm</th>\n",
       "      <th>age</th>\n",
       "      <th>dis</th>\n",
       "      <th>rad</th>\n",
       "      <th>tax</th>\n",
       "      <th>ptratio</th>\n",
       "      <th>b</th>\n",
       "      <th>lstat</th>\n",
       "    </tr>\n",
       "  </thead>\n",
       "  <tbody>\n",
       "    <tr>\n",
       "      <th>count</th>\n",
       "      <td>404.000000</td>\n",
       "      <td>404.000000</td>\n",
       "      <td>404.000000</td>\n",
       "      <td>404.000000</td>\n",
       "      <td>404.000000</td>\n",
       "      <td>404.000000</td>\n",
       "      <td>404.000000</td>\n",
       "      <td>404.000000</td>\n",
       "      <td>404.000000</td>\n",
       "      <td>404.000000</td>\n",
       "      <td>404.000000</td>\n",
       "      <td>404.000000</td>\n",
       "      <td>404.000000</td>\n",
       "    </tr>\n",
       "    <tr>\n",
       "      <th>mean</th>\n",
       "      <td>3.745111</td>\n",
       "      <td>11.480198</td>\n",
       "      <td>11.104431</td>\n",
       "      <td>0.061881</td>\n",
       "      <td>0.557356</td>\n",
       "      <td>6.267082</td>\n",
       "      <td>69.010644</td>\n",
       "      <td>3.740271</td>\n",
       "      <td>9.440594</td>\n",
       "      <td>405.898515</td>\n",
       "      <td>18.475990</td>\n",
       "      <td>354.783168</td>\n",
       "      <td>12.740817</td>\n",
       "    </tr>\n",
       "    <tr>\n",
       "      <th>std</th>\n",
       "      <td>9.240734</td>\n",
       "      <td>23.767711</td>\n",
       "      <td>6.811308</td>\n",
       "      <td>0.241238</td>\n",
       "      <td>0.117293</td>\n",
       "      <td>0.709788</td>\n",
       "      <td>27.940665</td>\n",
       "      <td>2.030215</td>\n",
       "      <td>8.698360</td>\n",
       "      <td>166.374543</td>\n",
       "      <td>2.200382</td>\n",
       "      <td>94.111148</td>\n",
       "      <td>7.254545</td>\n",
       "    </tr>\n",
       "    <tr>\n",
       "      <th>min</th>\n",
       "      <td>0.006320</td>\n",
       "      <td>0.000000</td>\n",
       "      <td>0.460000</td>\n",
       "      <td>0.000000</td>\n",
       "      <td>0.385000</td>\n",
       "      <td>3.561000</td>\n",
       "      <td>2.900000</td>\n",
       "      <td>1.129600</td>\n",
       "      <td>1.000000</td>\n",
       "      <td>188.000000</td>\n",
       "      <td>12.600000</td>\n",
       "      <td>0.320000</td>\n",
       "      <td>1.730000</td>\n",
       "    </tr>\n",
       "    <tr>\n",
       "      <th>25%</th>\n",
       "      <td>0.081437</td>\n",
       "      <td>0.000000</td>\n",
       "      <td>5.130000</td>\n",
       "      <td>0.000000</td>\n",
       "      <td>0.453000</td>\n",
       "      <td>5.874750</td>\n",
       "      <td>45.475000</td>\n",
       "      <td>2.077100</td>\n",
       "      <td>4.000000</td>\n",
       "      <td>279.000000</td>\n",
       "      <td>17.225000</td>\n",
       "      <td>374.672500</td>\n",
       "      <td>6.890000</td>\n",
       "    </tr>\n",
       "    <tr>\n",
       "      <th>50%</th>\n",
       "      <td>0.268880</td>\n",
       "      <td>0.000000</td>\n",
       "      <td>9.690000</td>\n",
       "      <td>0.000000</td>\n",
       "      <td>0.538000</td>\n",
       "      <td>6.198500</td>\n",
       "      <td>78.500000</td>\n",
       "      <td>3.142300</td>\n",
       "      <td>5.000000</td>\n",
       "      <td>330.000000</td>\n",
       "      <td>19.100000</td>\n",
       "      <td>391.250000</td>\n",
       "      <td>11.395000</td>\n",
       "    </tr>\n",
       "    <tr>\n",
       "      <th>75%</th>\n",
       "      <td>3.674808</td>\n",
       "      <td>12.500000</td>\n",
       "      <td>18.100000</td>\n",
       "      <td>0.000000</td>\n",
       "      <td>0.631000</td>\n",
       "      <td>6.609000</td>\n",
       "      <td>94.100000</td>\n",
       "      <td>5.118000</td>\n",
       "      <td>24.000000</td>\n",
       "      <td>666.000000</td>\n",
       "      <td>20.200000</td>\n",
       "      <td>396.157500</td>\n",
       "      <td>17.092500</td>\n",
       "    </tr>\n",
       "    <tr>\n",
       "      <th>max</th>\n",
       "      <td>88.976200</td>\n",
       "      <td>100.000000</td>\n",
       "      <td>27.740000</td>\n",
       "      <td>1.000000</td>\n",
       "      <td>0.871000</td>\n",
       "      <td>8.725000</td>\n",
       "      <td>100.000000</td>\n",
       "      <td>10.710300</td>\n",
       "      <td>24.000000</td>\n",
       "      <td>711.000000</td>\n",
       "      <td>22.000000</td>\n",
       "      <td>396.900000</td>\n",
       "      <td>37.970000</td>\n",
       "    </tr>\n",
       "  </tbody>\n",
       "</table>\n",
       "</div>"
      ],
      "text/plain": [
       "             crim          zn       indus        chas         nox          rm  \\\n",
       "count  404.000000  404.000000  404.000000  404.000000  404.000000  404.000000   \n",
       "mean     3.745111   11.480198   11.104431    0.061881    0.557356    6.267082   \n",
       "std      9.240734   23.767711    6.811308    0.241238    0.117293    0.709788   \n",
       "min      0.006320    0.000000    0.460000    0.000000    0.385000    3.561000   \n",
       "25%      0.081437    0.000000    5.130000    0.000000    0.453000    5.874750   \n",
       "50%      0.268880    0.000000    9.690000    0.000000    0.538000    6.198500   \n",
       "75%      3.674808   12.500000   18.100000    0.000000    0.631000    6.609000   \n",
       "max     88.976200  100.000000   27.740000    1.000000    0.871000    8.725000   \n",
       "\n",
       "              age         dis         rad         tax     ptratio           b  \\\n",
       "count  404.000000  404.000000  404.000000  404.000000  404.000000  404.000000   \n",
       "mean    69.010644    3.740271    9.440594  405.898515   18.475990  354.783168   \n",
       "std     27.940665    2.030215    8.698360  166.374543    2.200382   94.111148   \n",
       "min      2.900000    1.129600    1.000000  188.000000   12.600000    0.320000   \n",
       "25%     45.475000    2.077100    4.000000  279.000000   17.225000  374.672500   \n",
       "50%     78.500000    3.142300    5.000000  330.000000   19.100000  391.250000   \n",
       "75%     94.100000    5.118000   24.000000  666.000000   20.200000  396.157500   \n",
       "max    100.000000   10.710300   24.000000  711.000000   22.000000  396.900000   \n",
       "\n",
       "            lstat  \n",
       "count  404.000000  \n",
       "mean    12.740817  \n",
       "std      7.254545  \n",
       "min      1.730000  \n",
       "25%      6.890000  \n",
       "50%     11.395000  \n",
       "75%     17.092500  \n",
       "max     37.970000  "
      ]
     },
     "execution_count": 10,
     "metadata": {},
     "output_type": "execute_result"
    }
   ],
   "source": [
    "df.describe()"
   ]
  },
  {
   "cell_type": "markdown",
   "metadata": {},
   "source": [
    "Observation :\n",
    "    \n",
    "    - Data seems to numeric only.\n",
    "    - There are around 13 columns.   \n",
    "    - Expect 'chas' column each column has float values."
   ]
  },
  {
   "cell_type": "code",
   "execution_count": 11,
   "metadata": {
    "colab": {
     "base_uri": "https://localhost:8080/",
     "height": 424
    },
    "id": "JWHJ-k6X5VA4",
    "outputId": "11961e5d-b91b-4e6e-f769-d472f8d898a9"
   },
   "outputs": [
    {
     "data": {
      "text/html": [
       "<div>\n",
       "<style scoped>\n",
       "    .dataframe tbody tr th:only-of-type {\n",
       "        vertical-align: middle;\n",
       "    }\n",
       "\n",
       "    .dataframe tbody tr th {\n",
       "        vertical-align: top;\n",
       "    }\n",
       "\n",
       "    .dataframe thead th {\n",
       "        text-align: right;\n",
       "    }\n",
       "</style>\n",
       "<table border=\"1\" class=\"dataframe\">\n",
       "  <thead>\n",
       "    <tr style=\"text-align: right;\">\n",
       "      <th></th>\n",
       "      <th>crim</th>\n",
       "      <th>zn</th>\n",
       "      <th>indus</th>\n",
       "      <th>chas</th>\n",
       "      <th>nox</th>\n",
       "      <th>rm</th>\n",
       "      <th>age</th>\n",
       "      <th>dis</th>\n",
       "      <th>rad</th>\n",
       "      <th>tax</th>\n",
       "      <th>ptratio</th>\n",
       "      <th>b</th>\n",
       "      <th>lstat</th>\n",
       "    </tr>\n",
       "  </thead>\n",
       "  <tbody>\n",
       "    <tr>\n",
       "      <th>0</th>\n",
       "      <td>False</td>\n",
       "      <td>False</td>\n",
       "      <td>False</td>\n",
       "      <td>False</td>\n",
       "      <td>False</td>\n",
       "      <td>False</td>\n",
       "      <td>False</td>\n",
       "      <td>False</td>\n",
       "      <td>False</td>\n",
       "      <td>False</td>\n",
       "      <td>False</td>\n",
       "      <td>False</td>\n",
       "      <td>False</td>\n",
       "    </tr>\n",
       "    <tr>\n",
       "      <th>1</th>\n",
       "      <td>False</td>\n",
       "      <td>False</td>\n",
       "      <td>False</td>\n",
       "      <td>False</td>\n",
       "      <td>False</td>\n",
       "      <td>False</td>\n",
       "      <td>False</td>\n",
       "      <td>False</td>\n",
       "      <td>False</td>\n",
       "      <td>False</td>\n",
       "      <td>False</td>\n",
       "      <td>False</td>\n",
       "      <td>False</td>\n",
       "    </tr>\n",
       "    <tr>\n",
       "      <th>2</th>\n",
       "      <td>False</td>\n",
       "      <td>False</td>\n",
       "      <td>False</td>\n",
       "      <td>False</td>\n",
       "      <td>False</td>\n",
       "      <td>False</td>\n",
       "      <td>False</td>\n",
       "      <td>False</td>\n",
       "      <td>False</td>\n",
       "      <td>False</td>\n",
       "      <td>False</td>\n",
       "      <td>False</td>\n",
       "      <td>False</td>\n",
       "    </tr>\n",
       "    <tr>\n",
       "      <th>3</th>\n",
       "      <td>False</td>\n",
       "      <td>False</td>\n",
       "      <td>False</td>\n",
       "      <td>False</td>\n",
       "      <td>False</td>\n",
       "      <td>False</td>\n",
       "      <td>False</td>\n",
       "      <td>False</td>\n",
       "      <td>False</td>\n",
       "      <td>False</td>\n",
       "      <td>False</td>\n",
       "      <td>False</td>\n",
       "      <td>False</td>\n",
       "    </tr>\n",
       "    <tr>\n",
       "      <th>4</th>\n",
       "      <td>False</td>\n",
       "      <td>False</td>\n",
       "      <td>False</td>\n",
       "      <td>False</td>\n",
       "      <td>False</td>\n",
       "      <td>False</td>\n",
       "      <td>False</td>\n",
       "      <td>False</td>\n",
       "      <td>False</td>\n",
       "      <td>False</td>\n",
       "      <td>False</td>\n",
       "      <td>False</td>\n",
       "      <td>False</td>\n",
       "    </tr>\n",
       "    <tr>\n",
       "      <th>...</th>\n",
       "      <td>...</td>\n",
       "      <td>...</td>\n",
       "      <td>...</td>\n",
       "      <td>...</td>\n",
       "      <td>...</td>\n",
       "      <td>...</td>\n",
       "      <td>...</td>\n",
       "      <td>...</td>\n",
       "      <td>...</td>\n",
       "      <td>...</td>\n",
       "      <td>...</td>\n",
       "      <td>...</td>\n",
       "      <td>...</td>\n",
       "    </tr>\n",
       "    <tr>\n",
       "      <th>399</th>\n",
       "      <td>False</td>\n",
       "      <td>False</td>\n",
       "      <td>False</td>\n",
       "      <td>False</td>\n",
       "      <td>False</td>\n",
       "      <td>False</td>\n",
       "      <td>False</td>\n",
       "      <td>False</td>\n",
       "      <td>False</td>\n",
       "      <td>False</td>\n",
       "      <td>False</td>\n",
       "      <td>False</td>\n",
       "      <td>False</td>\n",
       "    </tr>\n",
       "    <tr>\n",
       "      <th>400</th>\n",
       "      <td>False</td>\n",
       "      <td>False</td>\n",
       "      <td>False</td>\n",
       "      <td>False</td>\n",
       "      <td>False</td>\n",
       "      <td>False</td>\n",
       "      <td>False</td>\n",
       "      <td>False</td>\n",
       "      <td>False</td>\n",
       "      <td>False</td>\n",
       "      <td>False</td>\n",
       "      <td>False</td>\n",
       "      <td>False</td>\n",
       "    </tr>\n",
       "    <tr>\n",
       "      <th>401</th>\n",
       "      <td>False</td>\n",
       "      <td>False</td>\n",
       "      <td>False</td>\n",
       "      <td>False</td>\n",
       "      <td>False</td>\n",
       "      <td>False</td>\n",
       "      <td>False</td>\n",
       "      <td>False</td>\n",
       "      <td>False</td>\n",
       "      <td>False</td>\n",
       "      <td>False</td>\n",
       "      <td>False</td>\n",
       "      <td>False</td>\n",
       "    </tr>\n",
       "    <tr>\n",
       "      <th>402</th>\n",
       "      <td>False</td>\n",
       "      <td>False</td>\n",
       "      <td>False</td>\n",
       "      <td>False</td>\n",
       "      <td>False</td>\n",
       "      <td>False</td>\n",
       "      <td>False</td>\n",
       "      <td>False</td>\n",
       "      <td>False</td>\n",
       "      <td>False</td>\n",
       "      <td>False</td>\n",
       "      <td>False</td>\n",
       "      <td>False</td>\n",
       "    </tr>\n",
       "    <tr>\n",
       "      <th>403</th>\n",
       "      <td>False</td>\n",
       "      <td>False</td>\n",
       "      <td>False</td>\n",
       "      <td>False</td>\n",
       "      <td>False</td>\n",
       "      <td>False</td>\n",
       "      <td>False</td>\n",
       "      <td>False</td>\n",
       "      <td>False</td>\n",
       "      <td>False</td>\n",
       "      <td>False</td>\n",
       "      <td>False</td>\n",
       "      <td>False</td>\n",
       "    </tr>\n",
       "  </tbody>\n",
       "</table>\n",
       "<p>404 rows × 13 columns</p>\n",
       "</div>"
      ],
      "text/plain": [
       "      crim     zn  indus   chas    nox     rm    age    dis    rad    tax  \\\n",
       "0    False  False  False  False  False  False  False  False  False  False   \n",
       "1    False  False  False  False  False  False  False  False  False  False   \n",
       "2    False  False  False  False  False  False  False  False  False  False   \n",
       "3    False  False  False  False  False  False  False  False  False  False   \n",
       "4    False  False  False  False  False  False  False  False  False  False   \n",
       "..     ...    ...    ...    ...    ...    ...    ...    ...    ...    ...   \n",
       "399  False  False  False  False  False  False  False  False  False  False   \n",
       "400  False  False  False  False  False  False  False  False  False  False   \n",
       "401  False  False  False  False  False  False  False  False  False  False   \n",
       "402  False  False  False  False  False  False  False  False  False  False   \n",
       "403  False  False  False  False  False  False  False  False  False  False   \n",
       "\n",
       "     ptratio      b  lstat  \n",
       "0      False  False  False  \n",
       "1      False  False  False  \n",
       "2      False  False  False  \n",
       "3      False  False  False  \n",
       "4      False  False  False  \n",
       "..       ...    ...    ...  \n",
       "399    False  False  False  \n",
       "400    False  False  False  \n",
       "401    False  False  False  \n",
       "402    False  False  False  \n",
       "403    False  False  False  \n",
       "\n",
       "[404 rows x 13 columns]"
      ]
     },
     "execution_count": 11,
     "metadata": {},
     "output_type": "execute_result"
    }
   ],
   "source": [
    "df.isnull()"
   ]
  },
  {
   "cell_type": "markdown",
   "metadata": {},
   "source": [
    "Observation :\n",
    "\n",
    "    -There is no any null values founded in dataset.\n",
    "    -Each and ever colums are notnull."
   ]
  },
  {
   "cell_type": "code",
   "execution_count": 12,
   "metadata": {
    "colab": {
     "base_uri": "https://localhost:8080/"
    },
    "id": "VlgY84Bq5YtG",
    "outputId": "1d258fb5-2e54-4ab2-e89e-05d4b62b689b"
   },
   "outputs": [
    {
     "name": "stdout",
     "output_type": "stream",
     "text": [
      "<class 'pandas.core.frame.DataFrame'>\n",
      "RangeIndex: 404 entries, 0 to 403\n",
      "Data columns (total 13 columns):\n",
      " #   Column   Non-Null Count  Dtype  \n",
      "---  ------   --------------  -----  \n",
      " 0   crim     404 non-null    float64\n",
      " 1   zn       404 non-null    float64\n",
      " 2   indus    404 non-null    float64\n",
      " 3   chas     404 non-null    float64\n",
      " 4   nox      404 non-null    float64\n",
      " 5   rm       404 non-null    float64\n",
      " 6   age      404 non-null    float64\n",
      " 7   dis      404 non-null    float64\n",
      " 8   rad      404 non-null    float64\n",
      " 9   tax      404 non-null    float64\n",
      " 10  ptratio  404 non-null    float64\n",
      " 11  b        404 non-null    float64\n",
      " 12  lstat    404 non-null    float64\n",
      "dtypes: float64(13)\n",
      "memory usage: 41.2 KB\n"
     ]
    }
   ],
   "source": [
    "df.info()"
   ]
  },
  {
   "cell_type": "markdown",
   "metadata": {},
   "source": [
    "Observation :\n",
    "\n",
    "    -There is no any null values founded in dataset.\n",
    "    -The data type of each column is float."
   ]
  },
  {
   "cell_type": "markdown",
   "metadata": {},
   "source": [
    "### EDA"
   ]
  },
  {
   "cell_type": "code",
   "execution_count": 13,
   "metadata": {
    "colab": {
     "base_uri": "https://localhost:8080/"
    },
    "id": "EjnznwhN5nUH",
    "outputId": "3c5dd3e9-454b-40d6-f8ec-096dba770ce7"
   },
   "outputs": [
    {
     "data": {
      "text/plain": [
       "(13, 13)"
      ]
     },
     "execution_count": 13,
     "metadata": {},
     "output_type": "execute_result"
    }
   ],
   "source": [
    "# Finding out the correlation between the features\n",
    "corr = df.corr()\n",
    "corr.shape"
   ]
  },
  {
   "cell_type": "code",
   "execution_count": 14,
   "metadata": {
    "colab": {
     "base_uri": "https://localhost:8080/",
     "height": 1000
    },
    "id": "DFIvvSOR5sCu",
    "outputId": "1339aedd-2c89-4409-e702-718904d7a748"
   },
   "outputs": [
    {
     "data": {
      "text/plain": [
       "<AxesSubplot:>"
      ]
     },
     "execution_count": 14,
     "metadata": {},
     "output_type": "execute_result"
    },
    {
     "data": {
      "image/png": "[encoded data removed]",
      "text/plain": [
       "<Figure size 1440x1440 with 2 Axes>"
      ]
     },
     "metadata": {
      "needs_background": "light"
     },
     "output_type": "display_data"
    }
   ],
   "source": [
    "# Plotting the heatmap of correlation between features\n",
    "plt.figure(figsize=(20,20))\n",
    "sns.heatmap(corr, cbar=True, square= True, fmt='.1f', annot=True, annot_kws={'size':15}, cmap='Blues')"
   ]
  },
  {
   "cell_type": "markdown",
   "metadata": {},
   "source": [
    "Observation : \n",
    "    \n",
    "    -There is no any corelation founded between any columns it means each and every columns are needed."
   ]
  },
  {
   "cell_type": "markdown",
   "metadata": {},
   "source": [
    "Check outliers and impute them"
   ]
  },
  {
   "cell_type": "code",
   "execution_count": 15,
   "metadata": {
    "colab": {
     "base_uri": "https://localhost:8080/",
     "height": 448
    },
    "id": "ScL-IeZ-78vR",
    "outputId": "5aedc188-e936-45e5-dccd-c1349150dfd5"
   },
   "outputs": [
    {
     "name": "stderr",
     "output_type": "stream",
     "text": [
      "/Users/c100-122/opt/anaconda3/lib/python3.9/site-packages/seaborn/_decorators.py:36: FutureWarning: Pass the following variable as a keyword arg: x. From version 0.12, the only valid positional argument will be `data`, and passing other arguments without an explicit keyword will result in an error or misinterpretation.\n",
      "  warnings.warn(\n"
     ]
    },
    {
     "data": {
      "text/plain": [
       "<AxesSubplot:xlabel='crim'>"
      ]
     },
     "execution_count": 15,
     "metadata": {},
     "output_type": "execute_result"
    },
    {
     "data": {
      "image/png": "[encoded data removed]",
      "text/plain": [
       "<Figure size 432x288 with 1 Axes>"
      ]
     },
     "metadata": {
      "needs_background": "light"
     },
     "output_type": "display_data"
    }
   ],
   "source": [
    "sns.boxplot(df['crim'])"
   ]
  },
  {
   "cell_type": "markdown",
   "metadata": {},
   "source": [
    "Observation : \n",
    "\n",
    "    -There is outlier founded 'crim' column."
   ]
  },
  {
   "cell_type": "code",
   "execution_count": 16,
   "metadata": {
    "id": "wG5LaZPj86Fx"
   },
   "outputs": [],
   "source": [
    "#for crim\n",
    "import pandas as pd\n",
    "\n",
    "column_mean = df['crim'].mean()\n",
    "\n",
    "#Calculate the lower and upper bounds using the IQR method\n",
    "Q1 = df['crim'].quantile(0.25)\n",
    "Q3 = df['crim'].quantile(0.75)\n",
    "IQR = Q3 - Q1\n",
    "lower_bound = Q1 - 1.5 * IQR\n",
    "upper_bound = Q3 + 1 * IQR\n",
    "\n",
    "#Replace outliers with the mean value\n",
    "df.loc[(df['crim'] < lower_bound) | (df['crim'] > upper_bound), 'crim'] = column_mean\n"
   ]
  },
  {
   "cell_type": "markdown",
   "metadata": {},
   "source": [
    "Observation :\n",
    "    \n",
    "    - Impute all outliers with mean value"
   ]
  },
  {
   "cell_type": "code",
   "execution_count": 17,
   "metadata": {
    "colab": {
     "base_uri": "https://localhost:8080/",
     "height": 448
    },
    "id": "bPjPYMdR9wq_",
    "outputId": "8b0c0c3c-7a94-4087-e9b3-2832f32e0b1d"
   },
   "outputs": [
    {
     "name": "stderr",
     "output_type": "stream",
     "text": [
      "/Users/c100-122/opt/anaconda3/lib/python3.9/site-packages/seaborn/_decorators.py:36: FutureWarning: Pass the following variable as a keyword arg: x. From version 0.12, the only valid positional argument will be `data`, and passing other arguments without an explicit keyword will result in an error or misinterpretation.\n",
      "  warnings.warn(\n"
     ]
    },
    {
     "data": {
      "text/plain": [
       "<AxesSubplot:xlabel='ptratio'>"
      ]
     },
     "execution_count": 17,
     "metadata": {},
     "output_type": "execute_result"
    },
    {
     "data": {
      "image/png": "[encoded data removed]",
      "text/plain": [
       "<Figure size 432x288 with 1 Axes>"
      ]
     },
     "metadata": {
      "needs_background": "light"
     },
     "output_type": "display_data"
    }
   ],
   "source": [
    "sns.boxplot(df['zn'])"
   ]
  },
  {
   "cell_type": "markdown",
   "metadata": {},
   "source": [
    "Observation : \n",
    "\n",
    "    -There is outlier founded 'zn' column."
   ]
  },
  {
   "cell_type": "code",
   "execution_count": 18,
   "metadata": {
    "id": "xuM6P4X79w6-"
   },
   "outputs": [],
   "source": [
    "#for zn\n",
    "import pandas as pd\n",
    "\n",
    "column_mean = df['zn'].mean()\n",
    "\n",
    "#Calculate the lower and upper bounds using the IQR method\n",
    "Q1 = df['zn'].quantile(0.25)\n",
    "Q3 = df['zn'].quantile(0.75)\n",
    "IQR = Q3 - Q1\n",
    "lower_bound = Q1 - 1.5 * IQR\n",
    "upper_bound = Q3 + 1.5 * IQR\n",
    "\n",
    "#Replace outliers with the mean value\n",
    "df.loc[(df['zn'] < lower_bound) | (df['zn'] > upper_bound), 'zn'] = column_mean\n"
   ]
  },
  {
   "cell_type": "markdown",
   "metadata": {},
   "source": [
    "Observation :\n",
    "    \n",
    "    - Impute all outliers with mean value"
   ]
  },
  {
   "cell_type": "code",
   "execution_count": 19,
   "metadata": {
    "colab": {
     "base_uri": "https://localhost:8080/",
     "height": 448
    },
    "id": "MTpjLXvf9xCl",
    "outputId": "c4778f08-1e95-46f1-87f1-3fcf51dd37e5"
   },
   "outputs": [
    {
     "name": "stderr",
     "output_type": "stream",
     "text": [
      "/Users/c100-122/opt/anaconda3/lib/python3.9/site-packages/seaborn/_decorators.py:36: FutureWarning: Pass the following variable as a keyword arg: x. From version 0.12, the only valid positional argument will be `data`, and passing other arguments without an explicit keyword will result in an error or misinterpretation.\n",
      "  warnings.warn(\n"
     ]
    },
    {
     "data": {
      "text/plain": [
       "<AxesSubplot:xlabel='b'>"
      ]
     },
     "execution_count": 19,
     "metadata": {},
     "output_type": "execute_result"
    },
    {
     "data": {
      "image/png": "[encoded data removed]",
      "text/plain": [
       "<Figure size 432x288 with 1 Axes>"
      ]
     },
     "metadata": {
      "needs_background": "light"
     },
     "output_type": "display_data"
    }
   ],
   "source": [
    "sns.boxplot(df['b'])"
   ]
  },
  {
   "cell_type": "markdown",
   "metadata": {},
   "source": [
    "Observation : \n",
    "\n",
    "    -There is outlier founded 'b' column."
   ]
  },
  {
   "cell_type": "code",
   "execution_count": 20,
   "metadata": {
    "id": "WgG_LveC9xIF"
   },
   "outputs": [],
   "source": [
    "#for rm\n",
    "import pandas as pd\n",
    "\n",
    "column_mean = df['b'].mean()\n",
    "\n",
    "#Calculate the lower and upper bounds using the IQR method\n",
    "Q1 = df['b'].quantile(0.25)\n",
    "Q3 = df['b'].quantile(0.75)\n",
    "IQR = Q3 - Q1\n",
    "lower_bound = Q1 - 1.5 * IQR\n",
    "upper_bound = Q3 + 1.5 * IQR\n",
    "\n",
    "#Replace outliers with the mean value\n",
    "df.loc[(df['b'] < lower_bound) | (df['b'] > upper_bound), 'b'] = column_mean\n"
   ]
  },
  {
   "cell_type": "markdown",
   "metadata": {},
   "source": [
    "Observation :\n",
    "    \n",
    "    - Impute all outliers with mean value"
   ]
  },
  {
   "cell_type": "markdown",
   "metadata": {},
   "source": [
    "### Neural network"
   ]
  },
  {
   "cell_type": "code",
   "execution_count": 21,
   "metadata": {
    "colab": {
     "base_uri": "https://localhost:8080/"
    },
    "id": "eq-FAqvnOdvW",
    "outputId": "130e2600-ed73-40aa-d22c-859c24cc57f4"
   },
   "outputs": [
    {
     "name": "stdout",
     "output_type": "stream",
     "text": [
      "Train shape :  (404, 13)\n",
      "Train output:  (404,)\n"
     ]
    }
   ],
   "source": [
    "print(\"Train shape : \",train_X.shape)\n",
    "print(\"Train output: \",train_y.shape)"
   ]
  },
  {
   "cell_type": "markdown",
   "metadata": {},
   "source": [
    "Observation :\n",
    "    \n",
    "    - Print input data's shape\n",
    "    - Print output data's shape\n",
    "    "
   ]
  },
  {
   "cell_type": "code",
   "execution_count": 24,
   "metadata": {
    "id": "L3gL4ClIEbG3"
   },
   "outputs": [],
   "source": [
    "scaler = preprocessing.StandardScaler()"
   ]
  },
  {
   "cell_type": "markdown",
   "metadata": {},
   "source": [
    "StandardScaler removes the mean and scales each feature/variable to unit variance. This operation is performed feature-wise in an independent way. StandardScaler can be influenced by outliers (if they exist in the dataset) since it involves the estimation of the empirical mean and standard deviation of each feature.\n",
    "\n",
    "Observation :\n",
    "    \n",
    "    - Apply standardscaler on the dataset"
   ]
  },
  {
   "cell_type": "code",
   "execution_count": 25,
   "metadata": {
    "id": "WqCAIJJYPv8G"
   },
   "outputs": [],
   "source": [
    "train_X = preprocessing.normalize(train_X)\n",
    "test_X = preprocessing.normalize(test_X)"
   ]
  },
  {
   "cell_type": "markdown",
   "metadata": {},
   "source": [
    "Normalize is a function present in sklearn. preprocessing package. Normalization is used for scaling input data set on a scale of 0 to 1 to have unit norm. Norm is nothing but calculating the magnitude of the vector.\n",
    "\n",
    "Observation :\n",
    "    \n",
    "    - Normalise the training and testing data."
   ]
  },
  {
   "cell_type": "code",
   "execution_count": 26,
   "metadata": {
    "colab": {
     "base_uri": "https://localhost:8080/"
    },
    "id": "UX7ZLwW6QcO3",
    "outputId": "425d0887-bdc0-4572-8c17-a19afd9346b3"
   },
   "outputs": [
    {
     "data": {
      "text/plain": [
       "array([[2.41189924e-03, 0.00000000e+00, 1.59296858e-02, ...,\n",
       "        4.10962409e-02, 7.76718953e-01, 3.66343633e-02],\n",
       "       [4.12788467e-05, 2.17679988e-02, 3.84915291e-03, ...,\n",
       "        2.78731762e-02, 7.49693634e-01, 5.89697810e-03],\n",
       "       [6.34505528e-03, 0.00000000e+00, 2.34463745e-02, ...,\n",
       "        2.61666721e-02, 4.86441025e-01, 4.22293817e-03],\n",
       "       ...,\n",
       "       [7.31052735e-05, 2.42141666e-02, 1.27818222e-02, ...,\n",
       "        3.56456758e-02, 7.64061896e-01, 1.65151267e-02],\n",
       "       [3.93108288e-03, 0.00000000e+00, 3.58139396e-02, ...,\n",
       "        2.68878913e-02, 6.48936821e-01, 2.88816193e-02],\n",
       "       [3.11819960e-05, 2.48766844e-02, 6.34907911e-03, ...,\n",
       "        3.38039707e-02, 8.16279215e-01, 9.49111484e-03]])"
      ]
     },
     "execution_count": 26,
     "metadata": {},
     "output_type": "execute_result"
    }
   ],
   "source": [
    "train_X"
   ]
  },
  {
   "cell_type": "markdown",
   "metadata": {},
   "source": [
    "print training innput dataset"
   ]
  },
  {
   "cell_type": "code",
   "execution_count": 27,
   "metadata": {
    "colab": {
     "base_uri": "https://localhost:8080/"
    },
    "id": "ACELbW0oQegP",
    "outputId": "4ea2db8f-4221-4435-9679-1c3a6532e114"
   },
   "outputs": [
    {
     "data": {
      "text/plain": [
       "array([[2.67567471e-02, 0.00000000e+00, 2.67795319e-02, ...,\n",
       "        2.98865495e-02, 4.03172511e-02, 4.29804090e-02],\n",
       "       [2.07806276e-04, 0.00000000e+00, 1.68719346e-02, ...,\n",
       "        3.00020416e-02, 6.65691367e-01, 2.73220840e-02],\n",
       "       [1.19845746e-04, 0.00000000e+00, 1.13152524e-02, ...,\n",
       "        4.40400960e-02, 8.65322480e-01, 2.12351750e-02],\n",
       "       ...,\n",
       "       [3.21889389e-03, 0.00000000e+00, 3.43696005e-02, ...,\n",
       "        2.58035305e-02, 6.83898879e-01, 3.37025704e-03],\n",
       "       [7.07644197e-04, 0.00000000e+00, 1.22522104e-02, ...,\n",
       "        3.43852356e-02, 7.74063034e-01, 1.91885424e-02],\n",
       "       [6.10350794e-03, 0.00000000e+00, 4.08709594e-02, ...,\n",
       "        3.06845303e-02, 5.01305905e-01, 2.04772274e-02]])"
      ]
     },
     "execution_count": 27,
     "metadata": {},
     "output_type": "execute_result"
    }
   ],
   "source": [
    "test_X"
   ]
  },
  {
   "cell_type": "markdown",
   "metadata": {},
   "source": [
    "print testing innput dataset"
   ]
  },
  {
   "cell_type": "code",
   "execution_count": 29,
   "metadata": {
    "id": "yfOTor5HQn0m"
   },
   "outputs": [],
   "source": [
    "from tensorflow.keras.models import Sequential\n",
    "from tensorflow.keras.layers import *"
   ]
  },
  {
   "cell_type": "markdown",
   "metadata": {},
   "source": [
    "Import necessary libraries :\n",
    "    \n",
    "    - Tensorflow - TensorFlow is a Python library for fast numerical computing. It is a foundation library that can be used to create Deep Learning models directly or by using wrapper libraries that simplify the process built on top of TensorFlow.\n",
    "\n",
    "    - Keras - What is Keras and Why it so Popular in 2021.Keras is used for creating deep models which can\n",
    "    be productized on smartphones. Keras is also used for distributed training of deep learning models.\n",
    "\n",
    "    - Sequential - A Sequential model is appropriate for a plain stack of layers where each layer has exactly\n",
    "    one input tensor and one output tensor. A Sequential model is not appropriate when: Your model has multiple\n",
    "    inputs or multiple outputs. Any of your layers has multiple inputs or multiple outputs."
   ]
  },
  {
   "cell_type": "code",
   "execution_count": 30,
   "metadata": {
    "id": "tp7Dil4nRGyu"
   },
   "outputs": [],
   "source": [
    "def HousePricePredictionModel():\n",
    "  model = Sequential()\n",
    "  model.add(Dense(64, activation='relu', input_shape=(train_X.shape[1],)))\n",
    "  model.add(Dense(1))\n",
    "  model.compile(optimizer='adam',loss='mse')\n",
    "  return model"
   ]
  },
  {
   "cell_type": "markdown",
   "metadata": {},
   "source": [
    "Observation : \n",
    "    \n",
    "    - The model architecture consists of two layers. The first layer is a fully connected layer with 64 \n",
    "      units and a ReLU activation function. \n",
    "    \n",
    "    - The input shape of this layer is determined by the number of features in the training data. The second \n",
    "    layer is a single-unit output layer. The model is compiled with the mean squared error (MSE) loss function and the Adam optimizer. This configuration is suitable for regression tasks where the goal is to minimize the difference between the predicted house prices and the true prices. Overall, this code defines a simple \n",
    "    yet effective neural network model for house price prediction."
   ]
  },
  {
   "cell_type": "code",
   "execution_count": 31,
   "metadata": {
    "id": "yYIn_k2ySrk1"
   },
   "outputs": [],
   "source": [
    "k=4\n",
    "num_val_samples=len(train_X)\n",
    "num_epochs=50\n",
    "all_scores = []"
   ]
  },
  {
   "cell_type": "markdown",
   "metadata": {},
   "source": [
    "Observation :\n",
    "    \n",
    "    - k=4: This line assigns the value 4 to the variable k, which represents the number of folds or subsets for performing cross-validation. In this case, the data will be split into 4 parts for training and validation.\n",
    "\n",
    "    - num_val_samples=len(train_X): This line calculates the number of validation samples by taking the length of the train_X data, which represents the training dataset. The assumption is that the entire dataset will be used for validation in each fold of cross-validation.\n",
    "\n",
    "    - num_epochs=50: This line assigns the value 50 to the variable num_epochs, which represents the number of epochs or complete passes through the training dataset during model training.\n",
    "\n",
    "    - all_scores = []: This line initializes an empty list called all_scores, which will be used to store the evaluation scores (e.g., accuracy, loss) obtained from each fold of cross-validation."
   ]
  },
  {
   "cell_type": "code",
   "execution_count": 32,
   "metadata": {
    "id": "f4JWsLqjDbvX"
   },
   "outputs": [],
   "source": [
    "early_stopping = EarlyStopping(monitor='val_loss', patience=2, restore_best_weights=True)"
   ]
  },
  {
   "cell_type": "markdown",
   "metadata": {},
   "source": [
    "Observation : \n",
    "    \n",
    "    - In machine learning, early stopping is a form of regularization used to avoid overfitting when training a learner with an iterative method, such as gradient descent. Such methods update the learner so as to make it better fit the training data with each iteration"
   ]
  },
  {
   "cell_type": "code",
   "execution_count": 33,
   "metadata": {
    "colab": {
     "base_uri": "https://localhost:8080/"
    },
    "id": "KWQGFdqVTMom",
    "outputId": "4b76aa4c-4d63-42d5-dd51-9c0bb3c05a3c"
   },
   "outputs": [
    {
     "name": "stdout",
     "output_type": "stream",
     "text": [
      "Epoch 1/50\n",
      "13/13 [==============================] - 0s 8ms/step - loss: 579.9031 - val_loss: 603.5255\n",
      "Epoch 2/50\n",
      "13/13 [==============================] - 0s 2ms/step - loss: 569.3771 - val_loss: 592.6832\n",
      "Epoch 3/50\n",
      "13/13 [==============================] - 0s 2ms/step - loss: 558.7424 - val_loss: 581.5105\n",
      "Epoch 4/50\n",
      "13/13 [==============================] - 0s 2ms/step - loss: 547.5420 - val_loss: 569.7731\n",
      "Epoch 5/50\n",
      "13/13 [==============================] - 0s 2ms/step - loss: 535.7484 - val_loss: 557.2780\n",
      "Epoch 6/50\n",
      "13/13 [==============================] - 0s 2ms/step - loss: 523.2731 - val_loss: 543.7213\n",
      "Epoch 7/50\n",
      "13/13 [==============================] - 0s 2ms/step - loss: 509.6483 - val_loss: 529.2375\n",
      "Epoch 8/50\n",
      "13/13 [==============================] - 0s 2ms/step - loss: 495.1812 - val_loss: 513.5512\n",
      "Epoch 9/50\n",
      "13/13 [==============================] - 0s 2ms/step - loss: 479.4569 - val_loss: 496.9750\n",
      "Epoch 10/50\n",
      "13/13 [==============================] - 0s 2ms/step - loss: 462.9281 - val_loss: 479.3707\n",
      "Epoch 11/50\n",
      "13/13 [==============================] - 0s 2ms/step - loss: 445.5469 - val_loss: 460.8170\n",
      "Epoch 12/50\n",
      "13/13 [==============================] - 0s 2ms/step - loss: 427.3388 - val_loss: 441.3973\n",
      "Epoch 13/50\n",
      "13/13 [==============================] - 0s 2ms/step - loss: 408.3626 - val_loss: 421.1606\n",
      "Epoch 14/50\n",
      "13/13 [==============================] - 0s 2ms/step - loss: 388.7109 - val_loss: 400.1691\n",
      "Epoch 15/50\n",
      "13/13 [==============================] - 0s 2ms/step - loss: 368.2700 - val_loss: 378.6672\n",
      "Epoch 16/50\n",
      "13/13 [==============================] - 0s 2ms/step - loss: 347.5122 - val_loss: 356.7607\n",
      "Epoch 17/50\n",
      "13/13 [==============================] - 0s 2ms/step - loss: 326.3769 - val_loss: 334.7974\n",
      "Epoch 18/50\n",
      "13/13 [==============================] - 0s 2ms/step - loss: 305.5069 - val_loss: 312.7993\n",
      "Epoch 19/50\n",
      "13/13 [==============================] - 0s 2ms/step - loss: 284.8391 - val_loss: 290.9196\n",
      "Epoch 20/50\n",
      "13/13 [==============================] - 0s 2ms/step - loss: 264.3823 - val_loss: 269.8611\n",
      "Epoch 21/50\n",
      "13/13 [==============================] - 0s 2ms/step - loss: 244.5704 - val_loss: 249.6618\n",
      "Epoch 22/50\n",
      "13/13 [==============================] - 0s 2ms/step - loss: 225.8827 - val_loss: 230.2099\n",
      "Epoch 23/50\n",
      "13/13 [==============================] - 0s 2ms/step - loss: 208.0929 - val_loss: 211.9627\n",
      "Epoch 24/50\n",
      "13/13 [==============================] - 0s 2ms/step - loss: 191.7025 - val_loss: 194.8194\n",
      "Epoch 25/50\n",
      "13/13 [==============================] - 0s 2ms/step - loss: 176.3722 - val_loss: 179.1275\n",
      "Epoch 26/50\n",
      "13/13 [==============================] - 0s 2ms/step - loss: 162.5647 - val_loss: 164.7163\n",
      "Epoch 27/50\n",
      "13/13 [==============================] - 0s 2ms/step - loss: 150.0366 - val_loss: 151.7503\n",
      "Epoch 28/50\n",
      "13/13 [==============================] - 0s 2ms/step - loss: 138.7255 - val_loss: 140.4925\n",
      "Epoch 29/50\n",
      "13/13 [==============================] - 0s 2ms/step - loss: 129.1725 - val_loss: 130.2712\n",
      "Epoch 30/50\n",
      "13/13 [==============================] - 0s 2ms/step - loss: 120.7703 - val_loss: 121.3865\n",
      "Epoch 31/50\n",
      "13/13 [==============================] - 0s 2ms/step - loss: 113.4658 - val_loss: 113.9488\n",
      "Epoch 32/50\n",
      "13/13 [==============================] - 0s 2ms/step - loss: 107.5427 - val_loss: 107.5809\n",
      "Epoch 33/50\n",
      "13/13 [==============================] - 0s 2ms/step - loss: 102.5513 - val_loss: 102.2262\n",
      "Epoch 34/50\n",
      "13/13 [==============================] - 0s 2ms/step - loss: 98.4491 - val_loss: 97.7959\n",
      "Epoch 35/50\n",
      "13/13 [==============================] - 0s 2ms/step - loss: 95.1621 - val_loss: 94.0679\n",
      "Epoch 36/50\n",
      "13/13 [==============================] - 0s 2ms/step - loss: 92.5597 - val_loss: 91.1116\n",
      "Epoch 37/50\n",
      "13/13 [==============================] - 0s 2ms/step - loss: 90.5288 - val_loss: 88.7127\n",
      "Epoch 38/50\n",
      "13/13 [==============================] - 0s 2ms/step - loss: 88.9415 - val_loss: 86.7381\n",
      "Epoch 39/50\n",
      "13/13 [==============================] - 0s 2ms/step - loss: 87.6738 - val_loss: 85.2130\n",
      "Epoch 40/50\n",
      "13/13 [==============================] - 0s 2ms/step - loss: 86.7955 - val_loss: 83.8804\n",
      "Epoch 41/50\n",
      "13/13 [==============================] - 0s 2ms/step - loss: 86.0571 - val_loss: 82.8328\n",
      "Epoch 42/50\n",
      "13/13 [==============================] - 0s 2ms/step - loss: 85.4684 - val_loss: 82.0025\n",
      "Epoch 43/50\n",
      "13/13 [==============================] - 0s 2ms/step - loss: 85.0199 - val_loss: 81.3715\n",
      "Epoch 44/50\n",
      "13/13 [==============================] - 0s 2ms/step - loss: 84.7180 - val_loss: 80.8272\n",
      "Epoch 45/50\n",
      "13/13 [==============================] - 0s 2ms/step - loss: 84.4474 - val_loss: 80.4210\n",
      "Epoch 46/50\n",
      "13/13 [==============================] - 0s 2ms/step - loss: 84.2440 - val_loss: 80.0865\n",
      "Epoch 47/50\n",
      "13/13 [==============================] - 0s 2ms/step - loss: 84.0680 - val_loss: 79.6709\n",
      "Epoch 48/50\n",
      "13/13 [==============================] - 0s 2ms/step - loss: 83.8946 - val_loss: 79.3660\n",
      "Epoch 49/50\n",
      "13/13 [==============================] - 0s 2ms/step - loss: 83.7763 - val_loss: 79.1108\n",
      "Epoch 50/50\n",
      "13/13 [==============================] - 0s 2ms/step - loss: 83.6180 - val_loss: 78.8633\n"
     ]
    }
   ],
   "source": [
    "model = HousePricePredictionModel()\n",
    "history = model.fit(x=train_X, y=train_y, epochs=num_epochs, batch_size=32, verbose=1, validation_data=(test_X, test_y),callbacks=early_stopping)"
   ]
  },
  {
   "cell_type": "markdown",
   "metadata": {},
   "source": [
    "Observation : \n",
    "    \n",
    "    - model = HousePricePredictionModel(): This line creates an instance of the house price prediction model \n",
    "    using the HousePricePredictionModel function defined earlier. The model architecture, optimizer, and \n",
    "    loss function are already set within the HousePricePredictionModel function.\n",
    "\n",
    "    - history = model.fit(...): This line trains the model using the fit method. It specifies the training \n",
    "    data train_X and corresponding target labels train_y as input. Other parameters such as the number \n",
    "    of epochs, batch size, verbosity, and validation data (test_X and test_y) are also provided.\n",
    "\n",
    "    - epochs=num_epochs: This parameter specifies the number of epochs or complete passes through the training \n",
    "    data during model training. It was previously defined as 50.\n",
    "\n",
    "    - batch_size=32: This parameter specifies the number of samples to be processed in each training batch.\n",
    "    Here, it is set to 32, which means the model will update its weights after processing 32 samples at a time.\n",
    "\n",
    "    - verbose=1: This parameter controls the verbosity of the training process. Setting it to 1 means that \n",
    "    progress updates will be printed during training.\n",
    "\n",
    "    - validation_data=(test_X, test_y): This parameter provides the validation data to evaluate the \n",
    "    model's performance after each epoch. It includes the test features test_X and the corresponding target \n",
    "    labels test_y.\n",
    "\n",
    "    - callbacks=early_stopping: This parameter allows the use of callbacks during training. Here, the early_stopping callback is specified, which can monitor the validation loss and stop the training process early if the loss does not improve for a certain number of epochs."
   ]
  },
  {
   "cell_type": "markdown",
   "metadata": {},
   "source": [
    "### Model Evalution"
   ]
  },
  {
   "cell_type": "code",
   "execution_count": 34,
   "metadata": {
    "colab": {
     "base_uri": "https://localhost:8080/"
    },
    "id": "7bVGVP-dXJ-2",
    "outputId": "45dfd93d-88ce-464b-9622-abf49bb2b359"
   },
   "outputs": [
    {
     "data": {
      "text/plain": [
       "array([1.19845746e-04, 0.00000000e+00, 1.13152524e-02, 0.00000000e+00,\n",
       "       1.12280443e-03, 1.30485136e-02, 9.89812059e-02, 1.04915718e-02,\n",
       "       1.09010139e-02, 4.88365421e-01, 4.40400960e-02, 8.65322480e-01,\n",
       "       2.12351750e-02])"
      ]
     },
     "execution_count": 34,
     "metadata": {},
     "output_type": "execute_result"
    }
   ],
   "source": [
    "test_X[2]"
   ]
  },
  {
   "cell_type": "markdown",
   "metadata": {},
   "source": [
    "Observation :\n",
    "\n",
    "    - Take all inputs of 3 row."
   ]
  },
  {
   "cell_type": "code",
   "execution_count": 35,
   "metadata": {
    "colab": {
     "base_uri": "https://localhost:8080/"
    },
    "id": "ZKMfzpHpXTxm",
    "outputId": "e024c2c9-afc7-4e13-971e-9a9779030618"
   },
   "outputs": [
    {
     "data": {
      "text/plain": [
       "19.0"
      ]
     },
     "execution_count": 35,
     "metadata": {},
     "output_type": "execute_result"
    }
   ],
   "source": [
    "test_y[2]"
   ]
  },
  {
   "cell_type": "markdown",
   "metadata": {},
   "source": [
    "Observation :\n",
    "    \n",
    "    -Take output of 3 row."
   ]
  },
  {
   "cell_type": "code",
   "execution_count": 36,
   "metadata": {
    "colab": {
     "base_uri": "https://localhost:8080/"
    },
    "id": "AsckoMspT_2W",
    "outputId": "8823ada0-c7d5-4df2-ea10-11a15212e280"
   },
   "outputs": [
    {
     "name": "stdout",
     "output_type": "stream",
     "text": [
      "Actual output : 19\n",
      "1/1 [==============================] - 0s 59ms/step\n",
      "Pridcted output :  [[18.63455]]\n"
     ]
    }
   ],
   "source": [
    "test_input = [[0.02675675, 0.        , 0.02677953, 0.        , 0.0010046 ,0.00951931, 0.14795322, 0.0027145 , 0.03550877, 0.98536841,0.02988655, 0.04031725, 0.04298041]]\n",
    "print(\"Actual output : 19\")\n",
    "print(\"Pridcted output : \" ,model.predict(test_input))\n"
   ]
  },
  {
   "cell_type": "markdown",
   "metadata": {},
   "source": [
    "Observation : \n",
    "    \n",
    "    - Predict a output using neural network."
   ]
  },
  {
   "cell_type": "markdown",
   "metadata": {
    "id": "KJ_dbVu8GV0P"
   },
   "source": [
    "# Gradio"
   ]
  },
  {
   "cell_type": "code",
   "execution_count": 37,
   "metadata": {
    "colab": {
     "base_uri": "https://localhost:8080/"
    },
    "id": "4II5ZoJjG4qv",
    "outputId": "89ca2bb1-394f-433c-9b52-db612d09bc73"
   },
   "outputs": [
    {
     "name": "stdout",
     "output_type": "stream",
     "text": [
      "Requirement already satisfied: gradio in /Users/c100-122/opt/anaconda3/lib/python3.9/site-packages (3.30.0)\n",
      "Requirement already satisfied: aiofiles in /Users/c100-122/opt/anaconda3/lib/python3.9/site-packages (from gradio) (23.1.0)\n",
      "Requirement already satisfied: aiohttp in /Users/c100-122/opt/anaconda3/lib/python3.9/site-packages (from gradio) (3.8.1)\n",
      "Requirement already satisfied: altair>=4.2.0 in /Users/c100-122/opt/anaconda3/lib/python3.9/site-packages (from gradio) (5.0.0)\n",
      "Requirement already satisfied: fastapi in /Users/c100-122/opt/anaconda3/lib/python3.9/site-packages (from gradio) (0.95.1)\n",
      "Requirement already satisfied: ffmpy in /Users/c100-122/opt/anaconda3/lib/python3.9/site-packages (from gradio) (0.3.0)\n",
      "Requirement already satisfied: gradio-client>=0.2.4 in /Users/c100-122/opt/anaconda3/lib/python3.9/site-packages (from gradio) (0.2.4)\n",
      "Requirement already satisfied: httpx in /Users/c100-122/opt/anaconda3/lib/python3.9/site-packages (from gradio) (0.24.0)\n",
      "Requirement already satisfied: huggingface-hub>=0.13.0 in /Users/c100-122/opt/anaconda3/lib/python3.9/site-packages (from gradio) (0.14.1)\n",
      "Requirement already satisfied: jinja2 in /Users/c100-122/opt/anaconda3/lib/python3.9/site-packages (from gradio) (2.11.3)\n",
      "Requirement already satisfied: markdown-it-py[linkify]>=2.0.0 in /Users/c100-122/opt/anaconda3/lib/python3.9/site-packages (from gradio) (2.2.0)\n",
      "Requirement already satisfied: markupsafe in /Users/c100-122/opt/anaconda3/lib/python3.9/site-packages (from gradio) (2.0.1)\n",
      "Requirement already satisfied: matplotlib in /Users/c100-122/opt/anaconda3/lib/python3.9/site-packages (from gradio) (3.5.1)\n",
      "Requirement already satisfied: mdit-py-plugins<=0.3.3 in /Users/c100-122/opt/anaconda3/lib/python3.9/site-packages (from gradio) (0.3.3)\n",
      "Requirement already satisfied: numpy in /Users/c100-122/opt/anaconda3/lib/python3.9/site-packages (from gradio) (1.22.4)\n",
      "Requirement already satisfied: orjson in /Users/c100-122/opt/anaconda3/lib/python3.9/site-packages (from gradio) (3.8.10)\n",
      "Requirement already satisfied: pandas in /Users/c100-122/opt/anaconda3/lib/python3.9/site-packages (from gradio) (1.4.2)\n",
      "Requirement already satisfied: pillow in /Users/c100-122/opt/anaconda3/lib/python3.9/site-packages (from gradio) (9.0.1)\n",
      "Requirement already satisfied: pydantic in /Users/c100-122/opt/anaconda3/lib/python3.9/site-packages (from gradio) (1.10.4)\n",
      "Requirement already satisfied: pydub in /Users/c100-122/opt/anaconda3/lib/python3.9/site-packages (from gradio) (0.25.1)\n",
      "Requirement already satisfied: pygments>=2.12.0 in /Users/c100-122/opt/anaconda3/lib/python3.9/site-packages (from gradio) (2.15.1)\n",
      "Requirement already satisfied: python-multipart in /Users/c100-122/opt/anaconda3/lib/python3.9/site-packages (from gradio) (0.0.6)\n",
      "Requirement already satisfied: pyyaml in /Users/c100-122/opt/anaconda3/lib/python3.9/site-packages (from gradio) (6.0)\n",
      "Requirement already satisfied: requests in /Users/c100-122/opt/anaconda3/lib/python3.9/site-packages (from gradio) (2.27.1)\n",
      "Requirement already satisfied: semantic-version in /Users/c100-122/opt/anaconda3/lib/python3.9/site-packages (from gradio) (2.8.5)\n",
      "Requirement already satisfied: typing-extensions in /Users/c100-122/opt/anaconda3/lib/python3.9/site-packages (from gradio) (4.5.0)\n",
      "Requirement already satisfied: uvicorn>=0.14.0 in /Users/c100-122/opt/anaconda3/lib/python3.9/site-packages (from gradio) (0.22.0)\n",
      "Requirement already satisfied: websockets>=10.0 in /Users/c100-122/opt/anaconda3/lib/python3.9/site-packages (from gradio) (11.0.3)\n",
      "Requirement already satisfied: jsonschema>=3.0 in /Users/c100-122/opt/anaconda3/lib/python3.9/site-packages (from altair>=4.2.0->gradio) (4.4.0)\n",
      "Requirement already satisfied: toolz in /Users/c100-122/opt/anaconda3/lib/python3.9/site-packages (from altair>=4.2.0->gradio) (0.11.2)\n",
      "Requirement already satisfied: fsspec in /Users/c100-122/opt/anaconda3/lib/python3.9/site-packages (from gradio-client>=0.2.4->gradio) (2022.2.0)\n",
      "Requirement already satisfied: packaging in /Users/c100-122/opt/anaconda3/lib/python3.9/site-packages (from gradio-client>=0.2.4->gradio) (21.3)\n",
      "Requirement already satisfied: filelock in /Users/c100-122/opt/anaconda3/lib/python3.9/site-packages (from huggingface-hub>=0.13.0->gradio) (3.6.0)\n",
      "Requirement already satisfied: tqdm>=4.42.1 in /Users/c100-122/opt/anaconda3/lib/python3.9/site-packages (from huggingface-hub>=0.13.0->gradio) (4.64.0)\n",
      "Requirement already satisfied: mdurl~=0.1 in /Users/c100-122/opt/anaconda3/lib/python3.9/site-packages (from markdown-it-py[linkify]>=2.0.0->gradio) (0.1.2)\n",
      "Requirement already satisfied: linkify-it-py<3,>=1 in /Users/c100-122/opt/anaconda3/lib/python3.9/site-packages (from markdown-it-py[linkify]>=2.0.0->gradio) (2.0.2)\n",
      "Requirement already satisfied: python-dateutil>=2.8.1 in /Users/c100-122/opt/anaconda3/lib/python3.9/site-packages (from pandas->gradio) (2.8.2)\n",
      "Requirement already satisfied: pytz>=2020.1 in /Users/c100-122/opt/anaconda3/lib/python3.9/site-packages (from pandas->gradio) (2021.3)\n",
      "Requirement already satisfied: click>=7.0 in /Users/c100-122/opt/anaconda3/lib/python3.9/site-packages (from uvicorn>=0.14.0->gradio) (8.0.4)\n",
      "Requirement already satisfied: h11>=0.8 in /Users/c100-122/opt/anaconda3/lib/python3.9/site-packages (from uvicorn>=0.14.0->gradio) (0.14.0)\n",
      "Requirement already satisfied: attrs>=17.3.0 in /Users/c100-122/opt/anaconda3/lib/python3.9/site-packages (from aiohttp->gradio) (21.4.0)\n",
      "Requirement already satisfied: charset-normalizer<3.0,>=2.0 in /Users/c100-122/opt/anaconda3/lib/python3.9/site-packages (from aiohttp->gradio) (2.0.4)\n",
      "Requirement already satisfied: multidict<7.0,>=4.5 in /Users/c100-122/opt/anaconda3/lib/python3.9/site-packages (from aiohttp->gradio) (5.2.0)\n",
      "Requirement already satisfied: async-timeout<5.0,>=4.0.0a3 in /Users/c100-122/opt/anaconda3/lib/python3.9/site-packages (from aiohttp->gradio) (4.0.1)\n",
      "Requirement already satisfied: yarl<2.0,>=1.0 in /Users/c100-122/opt/anaconda3/lib/python3.9/site-packages (from aiohttp->gradio) (1.6.3)\n",
      "Requirement already satisfied: frozenlist>=1.1.1 in /Users/c100-122/opt/anaconda3/lib/python3.9/site-packages (from aiohttp->gradio) (1.2.0)\n",
      "Requirement already satisfied: aiosignal>=1.1.2 in /Users/c100-122/opt/anaconda3/lib/python3.9/site-packages (from aiohttp->gradio) (1.2.0)\n",
      "Requirement already satisfied: starlette<0.27.0,>=0.26.1 in /Users/c100-122/opt/anaconda3/lib/python3.9/site-packages (from fastapi->gradio) (0.26.1)\n",
      "Requirement already satisfied: certifi in /Users/c100-122/opt/anaconda3/lib/python3.9/site-packages (from httpx->gradio) (2023.5.7)\n",
      "Requirement already satisfied: httpcore<0.18.0,>=0.15.0 in /Users/c100-122/opt/anaconda3/lib/python3.9/site-packages (from httpx->gradio) (0.17.0)\n",
      "Requirement already satisfied: idna in /Users/c100-122/opt/anaconda3/lib/python3.9/site-packages (from httpx->gradio) (3.3)\n",
      "Requirement already satisfied: sniffio in /Users/c100-122/opt/anaconda3/lib/python3.9/site-packages (from httpx->gradio) (1.2.0)\n",
      "Requirement already satisfied: cycler>=0.10 in /Users/c100-122/opt/anaconda3/lib/python3.9/site-packages (from matplotlib->gradio) (0.11.0)\n",
      "Requirement already satisfied: fonttools>=4.22.0 in /Users/c100-122/opt/anaconda3/lib/python3.9/site-packages (from matplotlib->gradio) (4.25.0)\n",
      "Requirement already satisfied: kiwisolver>=1.0.1 in /Users/c100-122/opt/anaconda3/lib/python3.9/site-packages (from matplotlib->gradio) (1.3.2)\n",
      "Requirement already satisfied: pyparsing>=2.2.1 in /Users/c100-122/opt/anaconda3/lib/python3.9/site-packages (from matplotlib->gradio) (3.0.4)\n",
      "Requirement already satisfied: urllib3<1.27,>=1.21.1 in /Users/c100-122/opt/anaconda3/lib/python3.9/site-packages (from requests->gradio) (1.26.9)\n",
      "Requirement already satisfied: anyio<5.0,>=3.0 in /Users/c100-122/opt/anaconda3/lib/python3.9/site-packages (from httpcore<0.18.0,>=0.15.0->httpx->gradio) (3.5.0)\n",
      "Requirement already satisfied: pyrsistent!=0.17.0,!=0.17.1,!=0.17.2,>=0.14.0 in /Users/c100-122/opt/anaconda3/lib/python3.9/site-packages (from jsonschema>=3.0->altair>=4.2.0->gradio) (0.18.0)\n",
      "Requirement already satisfied: uc-micro-py in /Users/c100-122/opt/anaconda3/lib/python3.9/site-packages (from linkify-it-py<3,>=1->markdown-it-py[linkify]>=2.0.0->gradio) (1.0.2)\n",
      "Requirement already satisfied: six>=1.5 in /Users/c100-122/opt/anaconda3/lib/python3.9/site-packages (from python-dateutil>=2.8.1->pandas->gradio) (1.16.0)\r\n"
     ]
    }
   ],
   "source": [
    "!pip install gradio"
   ]
  },
  {
   "cell_type": "markdown",
   "metadata": {},
   "source": [
    "Gradio is an open-source Python package that allows you to quickly create easy-to-use, customizable UI components for your ML model, any API, or even an arbitrary Python function using a few lines of code. You can integrate the Gradio GUI directly into your Jupyter notebook or share it as a link with anyone."
   ]
  },
  {
   "cell_type": "code",
   "execution_count": 38,
   "metadata": {
    "colab": {
     "base_uri": "https://localhost:8080/",
     "height": 318
    },
    "id": "999lWqmrHbmx",
    "outputId": "3a218bb0-1519-4767-d355-de557e2e2905"
   },
   "outputs": [],
   "source": [
    "import gradio as gr"
   ]
  },
  {
   "cell_type": "code",
   "execution_count": 39,
   "metadata": {},
   "outputs": [],
   "source": [
    "from sklearn.preprocessing import StandardScaler"
   ]
  },
  {
   "cell_type": "code",
   "execution_count": 44,
   "metadata": {
    "colab": {
     "base_uri": "https://localhost:8080/",
     "height": 245
    },
    "id": "u9REQ5GqGZcH",
    "outputId": "44fff803-5763-411f-c1b7-202aaacfe70a"
   },
   "outputs": [
    {
     "name": "stderr",
     "output_type": "stream",
     "text": [
      "/Users/c100-122/opt/anaconda3/lib/python3.9/site-packages/gradio/inputs.py:59: UserWarning: Usage of gradio.inputs is deprecated, and will not be supported in the future, please import your component from gradio.components\n",
      "  warnings.warn(\n",
      "/Users/c100-122/opt/anaconda3/lib/python3.9/site-packages/gradio/deprecation.py:40: UserWarning: `optional` parameter is deprecated, and it has no effect\n",
      "  warnings.warn(value)\n",
      "/Users/c100-122/opt/anaconda3/lib/python3.9/site-packages/gradio/outputs.py:22: UserWarning: Usage of gradio.outputs is deprecated, and will not be supported in the future, please import your components from gradio.components\n",
      "  warnings.warn(\n",
      "/Users/c100-122/opt/anaconda3/lib/python3.9/site-packages/gradio/blocks.py:255: UserWarning: api_name predict already exists, using predict_1\n",
      "  warnings.warn(f\"api_name {api_name} already exists, using {api_name_}\")\n",
      "/Users/c100-122/opt/anaconda3/lib/python3.9/site-packages/gradio/blocks.py:255: UserWarning: api_name predict already exists, using predict_2\n",
      "  warnings.warn(f\"api_name {api_name} already exists, using {api_name_}\")\n",
      "/Users/c100-122/opt/anaconda3/lib/python3.9/site-packages/gradio/blocks.py:255: UserWarning: api_name predict already exists, using predict_3\n",
      "  warnings.warn(f\"api_name {api_name} already exists, using {api_name_}\")\n",
      "/Users/c100-122/opt/anaconda3/lib/python3.9/site-packages/gradio/blocks.py:255: UserWarning: api_name predict already exists, using predict_4\n",
      "  warnings.warn(f\"api_name {api_name} already exists, using {api_name_}\")\n",
      "/Users/c100-122/opt/anaconda3/lib/python3.9/site-packages/gradio/blocks.py:255: UserWarning: api_name predict already exists, using predict_5\n",
      "  warnings.warn(f\"api_name {api_name} already exists, using {api_name_}\")\n",
      "/Users/c100-122/opt/anaconda3/lib/python3.9/site-packages/gradio/blocks.py:255: UserWarning: api_name predict already exists, using predict_6\n",
      "  warnings.warn(f\"api_name {api_name} already exists, using {api_name_}\")\n",
      "/Users/c100-122/opt/anaconda3/lib/python3.9/site-packages/gradio/blocks.py:255: UserWarning: api_name predict already exists, using predict_7\n",
      "  warnings.warn(f\"api_name {api_name} already exists, using {api_name_}\")\n",
      "/Users/c100-122/opt/anaconda3/lib/python3.9/site-packages/gradio/blocks.py:255: UserWarning: api_name predict already exists, using predict_8\n",
      "  warnings.warn(f\"api_name {api_name} already exists, using {api_name_}\")\n",
      "/Users/c100-122/opt/anaconda3/lib/python3.9/site-packages/gradio/blocks.py:255: UserWarning: api_name predict already exists, using predict_9\n",
      "  warnings.warn(f\"api_name {api_name} already exists, using {api_name_}\")\n",
      "/Users/c100-122/opt/anaconda3/lib/python3.9/site-packages/gradio/blocks.py:255: UserWarning: api_name predict already exists, using predict_10\n",
      "  warnings.warn(f\"api_name {api_name} already exists, using {api_name_}\")\n",
      "/Users/c100-122/opt/anaconda3/lib/python3.9/site-packages/gradio/blocks.py:255: UserWarning: api_name predict already exists, using predict_11\n",
      "  warnings.warn(f\"api_name {api_name} already exists, using {api_name_}\")\n",
      "/Users/c100-122/opt/anaconda3/lib/python3.9/site-packages/gradio/blocks.py:255: UserWarning: api_name predict already exists, using predict_12\n",
      "  warnings.warn(f\"api_name {api_name} already exists, using {api_name_}\")\n"
     ]
    },
    {
     "name": "stdout",
     "output_type": "stream",
     "text": [
      "Running on local URL:  http://127.0.0.1:7862\n",
      "Running on public URL: https://bbbdce5ec7e5cced10.gradio.live\n",
      "\n",
      "This share link expires in 72 hours. For free permanent hosting and GPU upgrades (NEW!), check out Spaces: https://huggingface.co/spaces\n"
     ]
    },
    {
     "data": {
      "text/html": [
       "<div><iframe src=\"https://bbbdce5ec7e5cced10.gradio.live\" width=\"100%\" height=\"500\" allow=\"autoplay; camera; microphone; clipboard-read; clipboard-write;\" frameborder=\"0\" allowfullscreen></iframe></div>"
      ],
      "text/plain": [
       "<IPython.core.display.HTML object>"
      ]
     },
     "metadata": {},
     "output_type": "display_data"
    },
    {
     "data": {
      "text/plain": []
     },
     "execution_count": 44,
     "metadata": {},
     "output_type": "execute_result"
    },
    {
     "name": "stdout",
     "output_type": "stream",
     "text": [
      "1/1 [==============================] - 0s 11ms/step\n",
      "1/1 [==============================] - 0s 12ms/step\n",
      "1/1 [==============================] - 0s 11ms/step\n",
      "1/1 [==============================] - 0s 11ms/step\n",
      "1/1 [==============================] - 0s 12ms/step\n",
      "1/1 [==============================] - 0s 11ms/step\n",
      "1/1 [==============================] - 0s 12ms/step\n",
      "1/1 [==============================] - 0s 12ms/step\n",
      "1/1 [==============================] - 0s 11ms/step\n",
      "1/1 [==============================] - 0s 12ms/step\n",
      "1/1 [==============================] - 0s 11ms/step\n",
      "1/1 [==============================] - 0s 12ms/step\n",
      "1/1 [==============================] - 0s 11ms/step\n",
      "1/1 [==============================] - 0s 11ms/step\n",
      "1/1 [==============================] - 0s 10ms/step\n",
      "1/1 [==============================] - 0s 11ms/step\n",
      "1/1 [==============================] - 0s 11ms/step\n",
      "1/1 [==============================] - 0s 11ms/step\n",
      "1/1 [==============================] - 0s 11ms/step\n",
      "1/1 [==============================] - 0s 11ms/step\n",
      "1/1 [==============================] - 0s 12ms/step\n",
      "1/1 [==============================] - 0s 10ms/step\n"
     ]
    }
   ],
   "source": [
    "import gradio as gr\n",
    "import numpy as np\n",
    "from sklearn.preprocessing import StandardScaler\n",
    "from tensorflow.keras.models import Sequential\n",
    "from tensorflow.keras.layers import Dense\n",
    "\n",
    "# Create a scaler instance\n",
    "scaler = StandardScaler()\n",
    "\n",
    "# Dummy data for fitting the scaler\n",
    "features = np.array([[1, 2, 3, 4, 5, 6, 7, 8, 9, 10, 11, 12, 13]])\n",
    "\n",
    "# Fit the scaler on the features\n",
    "scaler.fit(features)\n",
    "\n",
    "# Define the model architecture\n",
    "def HousePricePredictionModel():\n",
    "    model = Sequential()\n",
    "    model.add(Dense(64, activation='relu', input_shape=(13,)))\n",
    "    model.add(Dense(1))\n",
    "    model.compile(optimizer='adam', loss='mse')\n",
    "    return model\n",
    "\n",
    "# Define a function for making predictions\n",
    "def predict_price(crim, zn, indus, chas, nox, rm, age, dis, rad, tax, ptratio, b, lstat):\n",
    "    # Assuming crim, zn, indus, chas, nox, rm, age, dis, rad, tax, ptratio, b, and lstat are available\n",
    "    input_features = np.array([crim, zn, indus, chas, nox, rm, age, dis, rad, tax, ptratio, b, lstat])\n",
    "\n",
    "    # Reshape the input features\n",
    "    input_features = np.reshape(input_features, (1, -1))\n",
    "\n",
    "    # Transform the input features using the fitted scaler\n",
    "    scaled_features = scaler.transform(input_features)\n",
    "    \n",
    "    # Make predictions using the model\n",
    "    prediction = model.predict(scaled_features)\n",
    "    output = float(prediction[0])\n",
    "    \n",
    "    return output\n",
    "\n",
    "# Define input interfaces using the new components API\n",
    "inputs = [\n",
    "    gr.inputs.Number(label='crim'),\n",
    "    gr.inputs.Number(label='zn'),\n",
    "    gr.inputs.Number(label='indus'),\n",
    "    gr.inputs.Number(label='chas'),\n",
    "    gr.inputs.Number(label='nox'),\n",
    "    gr.inputs.Number(label='rm'),\n",
    "    gr.inputs.Number(label='age'),\n",
    "    gr.inputs.Number(label='dis'),\n",
    "    gr.inputs.Number(label='rad'),\n",
    "    gr.inputs.Number(label='tax'),\n",
    "    gr.inputs.Number(label='ptratio'),\n",
    "    gr.inputs.Number(label='b'),\n",
    "    gr.inputs.Number(label='lstat')\n",
    "]\n",
    "\n",
    "# Define output interface using the new components API\n",
    "output = gr.outputs.Textbox(label=\"Predicted Price\")\n",
    "\n",
    "# Create the Gradio interface\n",
    "interface = gr.Interface(fn=predict_price, inputs=inputs, outputs=output, title=\"Predicting House Prices\",\n",
    "                         description=\"The goal is to predict the price of a house.\", live=True)\n",
    "\n",
    "# Launch the interface\n",
    "interface.launch(share=True)\n"
   ]
  }
 ],
 "metadata": {
  "colab": {
   "provenance": []
  },
  "kernelspec": {
   "display_name": "Python 3 (ipykernel)",
   "language": "python",
   "name": "python3"
  },
  "language_info": {
   "codemirror_mode": {
    "name": "ipython",
    "version": 3
   },
   "file_extension": ".py",
   "mimetype": "text/x-python",
   "name": "python",
   "nbconvert_exporter": "python",
   "pygments_lexer": "ipython3",
   "version": "3.9.12"
  }
 },
 "nbformat": 4,
 "nbformat_minor": 1
}
